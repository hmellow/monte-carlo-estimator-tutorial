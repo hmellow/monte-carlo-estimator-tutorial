{
 "cells": [
  {
   "metadata": {},
   "cell_type": "markdown",
   "source": [
    "This notebook explores the [Monte Carlo Estimator](https://en.wikipedia.org/wiki/Monte_Carlo_method)\n",
    "\n",
    "---\n",
    "\n",
    "\n",
    "Consider the following integral:\n",
    "\n",
    "$\\int_0^7{x^2}dx=114.\\overline{3}$\n",
    "\n",
    "One can obtain a decent estimation for large $N$ using the Monte Carlo Estimator:\n",
    "$F_N=\\frac{b-a}{N}\\sum_{i=1}^N{f(X_i)}$"
   ],
   "id": "4b53db81e9d4131b"
  },
  {
   "metadata": {},
   "cell_type": "markdown",
   "source": "",
   "id": "c8e4fb8e0c6c21bf"
  },
  {
   "cell_type": "code",
   "id": "initial_id",
   "metadata": {
    "collapsed": true
   },
   "source": [
    "import random\n",
    "from tqdm import tqdm\n",
    "\n",
    "\n",
    "N = 10000000\n",
    "a = 0\n",
    "b = 7\n",
    "f = lambda x : x**2\n",
    "\n",
    "inner_sum = 0\n",
    "for _ in tqdm(range(N)):\n",
    "    ran = random.uniform(a, b)\n",
    "    inner_sum += f(ran)\n",
    "    \n",
    "result = (b - a) / N * inner_sum\n",
    "print(result)\n"
   ],
   "outputs": [],
   "execution_count": null
  },
  {
   "metadata": {},
   "cell_type": "markdown",
   "source": [
    "Now let's apply this method in a slightly different context: approximating $\\pi$\n",
    "\n",
    "\n",
    "For our approximation, we will use the function:\n",
    "$f(x)=\\sqrt{1-x^2}$ as it is the top half of the unit circle.\n",
    "\n",
    "\n",
    "The area of the unit circle is equal to $\\pi$, therefore:\n",
    "$\\int_0^1{\\sqrt{1-x^2}}dx=\\frac{\\pi}{4}$\n",
    "\n",
    "Now let us estimate the value of pi using this integral"
   ],
   "id": "699d88c70a360334"
  },
  {
   "metadata": {},
   "cell_type": "code",
   "source": [
    "import random\n",
    "import math\n",
    "from tqdm import tqdm\n",
    "\n",
    "\n",
    "N = 10000000\n",
    "a = 0\n",
    "b = 1\n",
    "f = lambda x : math.sqrt(1 - x**2)\n",
    "\n",
    "inner_sum = 0\n",
    "for _ in tqdm(range(N)):\n",
    "    ran = random.uniform(a, b)\n",
    "    inner_sum += f(ran)\n",
    "    \n",
    "result = (b - a) / N * inner_sum\n",
    "pi_approx = 4 * result  # pi from pi/4\n",
    "print(pi_approx)\n"
   ],
   "id": "aae64d56a3cebdbd",
   "outputs": [],
   "execution_count": null
  },
  {
   "metadata": {},
   "cell_type": "markdown",
   "source": "On the [Wikipeida page for the Monte Carlo Method](https://en.wikipedia.org/wiki/Monte_Carlo_method#Overview), there is an alternate method for approximaating $\\pi$ shown, where points are uniformly scattered over the unit square, and the ratio of points inside the curve to total points plotted can be taken as an approximation of $\\frac{\\pi}{4}$. Let's try to recreate this method, as well as the nice visualization.",
   "id": "42e817aa2a708bfb"
  },
  {
   "metadata": {
    "ExecuteTime": {
     "end_time": "2024-08-04T00:39:34.144282Z",
     "start_time": "2024-08-04T00:39:07.207440Z"
    }
   },
   "cell_type": "code",
   "source": [
    "%matplotlib nbagg\n",
    "\n",
    "import random\n",
    "import math\n",
    "from tqdm import tqdm\n",
    "import matplotlib.pyplot as plt\n",
    "import matplotlib.animation as animation\n",
    "from matplotlib import style\n",
    "\n",
    "\n",
    "N = 10000000\n",
    "f = lambda x : math.sqrt(1 - x**2)\n",
    "\n",
    "x_outside = []\n",
    "y_outside = []\n",
    "x_inside = []\n",
    "y_inside = []\n",
    "\n",
    "n_inside = 0\n",
    "\n",
    "# Uniformly scatter points within the unit square\n",
    "for _ in tqdm(range(N)):\n",
    "    ran_x = random.uniform(0, 1)\n",
    "    ran_y = random.uniform(0, 1)\n",
    "    \n",
    "    if ran_y < f(ran_x):\n",
    "        x_inside.append(ran_x)\n",
    "        y_inside.append(ran_y)\n",
    "        n_inside += 1\n",
    "    else:\n",
    "        x_outside.append(ran_x)\n",
    "        y_outside.append(ran_y)\n",
    "        \n",
    "result = n_inside / N\n",
    "pi_approx = 4 * result\n",
    "print(pi_approx)\n",
    "\n",
    "plt.scatter(x_outside, y_outside)\n",
    "plt.scatter(x_inside, y_inside)\n",
    "plt.show()\n",
    "    "
   ],
   "id": "1e7c1cfface6984b",
   "outputs": [
    {
     "name": "stderr",
     "output_type": "stream",
     "text": [
      " 95%|█████████▍| 9467496/10000000 [00:26<00:01, 360861.27it/s]\n"
     ]
    },
    {
     "ename": "KeyboardInterrupt",
     "evalue": "",
     "output_type": "error",
     "traceback": [
      "\u001B[0;31m---------------------------------------------------------------------------\u001B[0m",
      "\u001B[0;31mKeyboardInterrupt\u001B[0m                         Traceback (most recent call last)",
      "Cell \u001B[0;32mIn[54], line 23\u001B[0m\n\u001B[1;32m     21\u001B[0m \u001B[38;5;66;03m# Uniformly scatter points within the unit square\u001B[39;00m\n\u001B[1;32m     22\u001B[0m \u001B[38;5;28;01mfor\u001B[39;00m _ \u001B[38;5;129;01min\u001B[39;00m tqdm(\u001B[38;5;28mrange\u001B[39m(N)):\n\u001B[0;32m---> 23\u001B[0m     ran_x \u001B[38;5;241m=\u001B[39m \u001B[43mrandom\u001B[49m\u001B[38;5;241;43m.\u001B[39;49m\u001B[43muniform\u001B[49m\u001B[43m(\u001B[49m\u001B[38;5;241;43m0\u001B[39;49m\u001B[43m,\u001B[49m\u001B[43m \u001B[49m\u001B[38;5;241;43m1\u001B[39;49m\u001B[43m)\u001B[49m\n\u001B[1;32m     24\u001B[0m     ran_y \u001B[38;5;241m=\u001B[39m random\u001B[38;5;241m.\u001B[39muniform(\u001B[38;5;241m0\u001B[39m, \u001B[38;5;241m1\u001B[39m)\n\u001B[1;32m     26\u001B[0m     \u001B[38;5;28;01mif\u001B[39;00m ran_y \u001B[38;5;241m<\u001B[39m f(ran_x):\n",
      "File \u001B[0;32m/Library/Frameworks/Python.framework/Versions/3.10/lib/python3.10/random.py:548\u001B[0m, in \u001B[0;36mRandom.uniform\u001B[0;34m(self, a, b)\u001B[0m\n\u001B[1;32m    546\u001B[0m \u001B[38;5;28;01mdef\u001B[39;00m \u001B[38;5;21muniform\u001B[39m(\u001B[38;5;28mself\u001B[39m, a, b):\n\u001B[1;32m    547\u001B[0m     \u001B[38;5;124m\"\u001B[39m\u001B[38;5;124mGet a random number in the range [a, b) or [a, b] depending on rounding.\u001B[39m\u001B[38;5;124m\"\u001B[39m\n\u001B[0;32m--> 548\u001B[0m     \u001B[38;5;28;01mreturn\u001B[39;00m a \u001B[38;5;241m+\u001B[39m (b \u001B[38;5;241m-\u001B[39m a) \u001B[38;5;241m*\u001B[39m \u001B[38;5;28;43mself\u001B[39;49m\u001B[38;5;241;43m.\u001B[39;49m\u001B[43mrandom\u001B[49m\u001B[43m(\u001B[49m\u001B[43m)\u001B[49m\n",
      "\u001B[0;31mKeyboardInterrupt\u001B[0m: "
     ]
    }
   ],
   "execution_count": 54
  },
  {
   "metadata": {},
   "cell_type": "markdown",
   "source": "See `uniform_square.py` for live plotting (jupyter notebooks are annoying)",
   "id": "86e7e3babda4ba4b"
  }
 ],
 "metadata": {
  "kernelspec": {
   "display_name": "Python 3",
   "language": "python",
   "name": "python3"
  },
  "language_info": {
   "codemirror_mode": {
    "name": "ipython",
    "version": 2
   },
   "file_extension": ".py",
   "mimetype": "text/x-python",
   "name": "python",
   "nbconvert_exporter": "python",
   "pygments_lexer": "ipython2",
   "version": "2.7.6"
  }
 },
 "nbformat": 4,
 "nbformat_minor": 5
}
