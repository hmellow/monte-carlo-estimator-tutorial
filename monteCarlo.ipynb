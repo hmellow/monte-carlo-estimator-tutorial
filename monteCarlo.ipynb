{
 "cells": [
  {
   "metadata": {},
   "cell_type": "markdown",
   "source": [
    "This notebook explores the [Monte Carlo Estimator](https://en.wikipedia.org/wiki/Monte_Carlo_method)\n",
    "\n",
    "---\n",
    "\n",
    "\n",
    "Consider the following integral:\n",
    "\n",
    "$\\int_0^7{x^2}dx=114.\\overline{3}$\n",
    "\n",
    "One can obtain a decent estimation for large $N$ using the Monte Carlo Estimator:\n",
    "$F_N=\\frac{b-a}{N}\\sum_{i=1}^N{f(X_i)}$"
   ],
   "id": "4b53db81e9d4131b"
  },
  {
   "metadata": {},
   "cell_type": "markdown",
   "source": "",
   "id": "c8e4fb8e0c6c21bf"
  },
  {
   "cell_type": "code",
   "id": "initial_id",
   "metadata": {
    "collapsed": true,
    "ExecuteTime": {
     "end_time": "2024-08-03T21:54:37.597574Z",
     "start_time": "2024-08-03T21:54:29.320712Z"
    }
   },
   "source": [
    "import random\n",
    "from tqdm import tqdm\n",
    "\n",
    "\n",
    "N = 10000000\n",
    "a = 0\n",
    "b = 7\n",
    "f = lambda x : x**2\n",
    "\n",
    "inner_sum = 0\n",
    "for _ in tqdm(range(N)):\n",
    "    ran = random.uniform(a, b)\n",
    "    inner_sum += f(ran)\n",
    "    \n",
    "result = (b - a) / N * inner_sum\n",
    "print(result)"
   ],
   "outputs": [
    {
     "name": "stderr",
     "output_type": "stream",
     "text": [
      "100%|██████████| 10000000/10000000 [00:08<00:00, 1209805.27it/s]"
     ]
    },
    {
     "name": "stdout",
     "output_type": "stream",
     "text": [
      "114.31125796817604\n"
     ]
    },
    {
     "name": "stderr",
     "output_type": "stream",
     "text": [
      "\n"
     ]
    }
   ],
   "execution_count": 16
  },
  {
   "metadata": {},
   "cell_type": "markdown",
   "source": [
    "Now let's apply this method in a slightly different context: approximating $\\pi$\n",
    "\n",
    "\n",
    "For our approximation, we will use the function:\n",
    "$f(x)=\\sqrt{1-x^2}$ as it is the top half of the unit circle.\n",
    "\n",
    "\n",
    "The area of the unit circle is equal to $\\pi$, therefore:\n",
    "$\\int_0^1{\\sqrt{1-x^2}}dx=\\frac{\\pi}{4}$\n",
    "\n",
    "Now let us estimate the value of pi using this integral"
   ],
   "id": "699d88c70a360334"
  },
  {
   "metadata": {
    "ExecuteTime": {
     "end_time": "2024-08-03T22:13:17.230065Z",
     "start_time": "2024-08-03T22:13:07.807492Z"
    }
   },
   "cell_type": "code",
   "source": [
    "import random\n",
    "import math\n",
    "from tqdm import tqdm\n",
    "\n",
    "\n",
    "N = 10000000\n",
    "a = 0\n",
    "b = 1\n",
    "f = lambda x : math.sqrt(1 - x**2)\n",
    "\n",
    "inner_sum = 0\n",
    "for _ in tqdm(range(N)):\n",
    "    ran = random.uniform(a, b)\n",
    "    inner_sum += f(ran)\n",
    "    \n",
    "result = (b - a) / N * inner_sum\n",
    "pi_approx = 4 * result  # pi from pi/4\n",
    "print(pi_approx)"
   ],
   "id": "aae64d56a3cebdbd",
   "outputs": [
    {
     "name": "stderr",
     "output_type": "stream",
     "text": [
      "100%|██████████| 10000000/10000000 [00:09<00:00, 1062371.29it/s]"
     ]
    },
    {
     "name": "stdout",
     "output_type": "stream",
     "text": [
      "3.1421594706514084\n"
     ]
    },
    {
     "name": "stderr",
     "output_type": "stream",
     "text": [
      "\n"
     ]
    }
   ],
   "execution_count": 20
  }
 ],
 "metadata": {
  "kernelspec": {
   "display_name": "Python 3",
   "language": "python",
   "name": "python3"
  },
  "language_info": {
   "codemirror_mode": {
    "name": "ipython",
    "version": 2
   },
   "file_extension": ".py",
   "mimetype": "text/x-python",
   "name": "python",
   "nbconvert_exporter": "python",
   "pygments_lexer": "ipython2",
   "version": "2.7.6"
  }
 },
 "nbformat": 4,
 "nbformat_minor": 5
}
