{
 "cells": [
  {
   "metadata": {},
   "cell_type": "markdown",
   "source": [
    "This notebook explores the [Monte Carlo Estimator](https://en.wikipedia.org/wiki/Monte_Carlo_method)\n",
    "\n",
    "---\n",
    "\n",
    "\n",
    "Consider the following integral:\n",
    "\n",
    "$\\int_0^7{x^2}dx=114.\\overline{3}$\n",
    "\n",
    "One can obtain a decent estimation for large $N$ using the Monte Carlo Estimator:\n",
    "$F_N=\\frac{b-a}{N}\\sum_{i=1}^N{f(X_i)}$"
   ],
   "id": "4b53db81e9d4131b"
  },
  {
   "metadata": {},
   "cell_type": "markdown",
   "source": "",
   "id": "c8e4fb8e0c6c21bf"
  },
  {
   "cell_type": "code",
   "id": "initial_id",
   "metadata": {
    "collapsed": true,
    "ExecuteTime": {
     "end_time": "2024-08-03T21:54:37.597574Z",
     "start_time": "2024-08-03T21:54:29.320712Z"
    }
   },
   "source": [
    "import random\n",
    "from tqdm import tqdm\n",
    "\n",
    "\n",
    "N = 10000000\n",
    "a = 0\n",
    "b = 7\n",
    "f = lambda x : x**2\n",
    "\n",
    "inner_sum = 0\n",
    "for _ in tqdm(range(N)):\n",
    "    ran = random.uniform(a, b)\n",
    "    inner_sum += f(ran)\n",
    "    \n",
    "result = (b - a) / N * inner_sum\n",
    "print(result)\n"
   ],
   "outputs": [
    {
     "name": "stderr",
     "output_type": "stream",
     "text": [
      "100%|██████████| 10000000/10000000 [00:08<00:00, 1209805.27it/s]"
     ]
    },
    {
     "name": "stdout",
     "output_type": "stream",
     "text": [
      "114.31125796817604\n"
     ]
    },
    {
     "name": "stderr",
     "output_type": "stream",
     "text": [
      "\n"
     ]
    }
   ],
   "execution_count": 16
  },
  {
   "metadata": {},
   "cell_type": "markdown",
   "source": [
    "Now let's apply this method in a slightly different context: approximating $\\pi$\n",
    "\n",
    "\n",
    "For our approximation, we will use the function:\n",
    "$f(x)=\\sqrt{1-x^2}$ as it is the top half of the unit circle.\n",
    "\n",
    "\n",
    "The area of the unit circle is equal to $\\pi$, therefore:\n",
    "$\\int_0^1{\\sqrt{1-x^2}}dx=\\frac{\\pi}{4}$\n",
    "\n",
    "Now let us estimate the value of pi using this integral"
   ],
   "id": "699d88c70a360334"
  },
  {
   "metadata": {
    "ExecuteTime": {
     "end_time": "2024-08-03T22:13:17.230065Z",
     "start_time": "2024-08-03T22:13:07.807492Z"
    }
   },
   "cell_type": "code",
   "source": [
    "import random\n",
    "import math\n",
    "from tqdm import tqdm\n",
    "\n",
    "\n",
    "N = 10000000\n",
    "a = 0\n",
    "b = 1\n",
    "f = lambda x : math.sqrt(1 - x**2)\n",
    "\n",
    "inner_sum = 0\n",
    "for _ in tqdm(range(N)):\n",
    "    ran = random.uniform(a, b)\n",
    "    inner_sum += f(ran)\n",
    "    \n",
    "result = (b - a) / N * inner_sum\n",
    "pi_approx = 4 * result  # pi from pi/4\n",
    "print(pi_approx)\n"
   ],
   "id": "aae64d56a3cebdbd",
   "outputs": [
    {
     "name": "stderr",
     "output_type": "stream",
     "text": [
      "100%|██████████| 10000000/10000000 [00:09<00:00, 1062371.29it/s]"
     ]
    },
    {
     "name": "stdout",
     "output_type": "stream",
     "text": [
      "3.1421594706514084\n"
     ]
    },
    {
     "name": "stderr",
     "output_type": "stream",
     "text": [
      "\n"
     ]
    }
   ],
   "execution_count": 20
  },
  {
   "metadata": {},
   "cell_type": "markdown",
   "source": "On the [Wikipeida page for the Monte Carlo Method](https://en.wikipedia.org/wiki/Monte_Carlo_method#Overview), there is an alternate method for approximaating $\\pi$ shown, where points are uniformly scattered over the unit square, and the ratio of points inside the curve to total points plotted can be taken as an approximation of $\\frac{\\pi}{4}$. Let's try to recreate this method, as well as the nice visualization.",
   "id": "42e817aa2a708bfb"
  },
  {
   "metadata": {
    "ExecuteTime": {
     "end_time": "2024-08-03T23:06:11.227780Z",
     "start_time": "2024-08-03T23:05:42.774500Z"
    }
   },
   "cell_type": "code",
   "source": [
    "import random\n",
    "import math\n",
    "from tqdm import tqdm\n",
    "import matplotlib.pyplot as plt\n",
    "import matplotlib.animation as animation\n",
    "from matplotlib import style\n",
    "\n",
    "\n",
    "N = 10000000\n",
    "f = lambda x : math.sqrt(1 - x**2)\n",
    "\n",
    "x_outside = []\n",
    "y_outside = []\n",
    "x_inside = []\n",
    "y_inside = []\n",
    "\n",
    "n_inside = 0\n",
    "\n",
    "# Uniformly scatter points within the unit square\n",
    "for _ in tqdm(range(N)):\n",
    "    ran_x = random.uniform(0, 1)\n",
    "    ran_y = random.uniform(0, 1)\n",
    "    \n",
    "    if ran_y < f(ran_x):\n",
    "        x_inside.append(ran_x)\n",
    "        y_inside.append(ran_y)\n",
    "        n_inside += 1\n",
    "    else:\n",
    "        x_outside.append(ran_x)\n",
    "        y_outside.append(ran_y)\n",
    "        \n",
    "result = n_inside / N\n",
    "pi_approx = 4 * result\n",
    "print(pi_approx)\n",
    "\n",
    "plt.scatter(x_outside, y_outside)\n",
    "plt.scatter(x_inside, y_inside)\n",
    "plt.show()\n",
    "    "
   ],
   "id": "1e7c1cfface6984b",
   "outputs": [
    {
     "name": "stderr",
     "output_type": "stream",
     "text": [
      "100%|██████████| 10000000/10000000 [00:14<00:00, 693686.25it/s]\n"
     ]
    },
    {
     "name": "stdout",
     "output_type": "stream",
     "text": [
      "3.1427056\n"
     ]
    },
    {
     "ename": "KeyboardInterrupt",
     "evalue": "",
     "output_type": "error",
     "traceback": [
      "\u001B[0;31m---------------------------------------------------------------------------\u001B[0m",
      "\u001B[0;31mKeyboardInterrupt\u001B[0m                         Traceback (most recent call last)",
      "Cell \u001B[0;32mIn[23], line 34\u001B[0m\n\u001B[1;32m     31\u001B[0m pi_approx \u001B[38;5;241m=\u001B[39m \u001B[38;5;241m4\u001B[39m \u001B[38;5;241m*\u001B[39m result\n\u001B[1;32m     32\u001B[0m \u001B[38;5;28mprint\u001B[39m(pi_approx)\n\u001B[0;32m---> 34\u001B[0m \u001B[43mplt\u001B[49m\u001B[38;5;241;43m.\u001B[39;49m\u001B[43mscatter\u001B[49m\u001B[43m(\u001B[49m\u001B[43mx_outside\u001B[49m\u001B[43m,\u001B[49m\u001B[43m \u001B[49m\u001B[43my_outside\u001B[49m\u001B[43m)\u001B[49m\n\u001B[1;32m     35\u001B[0m plt\u001B[38;5;241m.\u001B[39mscatter(x_inside, y_inside)\n\u001B[1;32m     36\u001B[0m plt\u001B[38;5;241m.\u001B[39mshow()\n",
      "File \u001B[0;32m~/PycharmProjects/monteCarloEstimators/.venv/lib/python3.10/site-packages/matplotlib/pyplot.py:3903\u001B[0m, in \u001B[0;36mscatter\u001B[0;34m(x, y, s, c, marker, cmap, norm, vmin, vmax, alpha, linewidths, edgecolors, plotnonfinite, data, **kwargs)\u001B[0m\n\u001B[1;32m   3884\u001B[0m \u001B[38;5;129m@_copy_docstring_and_deprecators\u001B[39m(Axes\u001B[38;5;241m.\u001B[39mscatter)\n\u001B[1;32m   3885\u001B[0m \u001B[38;5;28;01mdef\u001B[39;00m \u001B[38;5;21mscatter\u001B[39m(\n\u001B[1;32m   3886\u001B[0m     x: \u001B[38;5;28mfloat\u001B[39m \u001B[38;5;241m|\u001B[39m ArrayLike,\n\u001B[0;32m   (...)\u001B[0m\n\u001B[1;32m   3901\u001B[0m     \u001B[38;5;241m*\u001B[39m\u001B[38;5;241m*\u001B[39mkwargs,\n\u001B[1;32m   3902\u001B[0m ) \u001B[38;5;241m-\u001B[39m\u001B[38;5;241m>\u001B[39m PathCollection:\n\u001B[0;32m-> 3903\u001B[0m     __ret \u001B[38;5;241m=\u001B[39m \u001B[43mgca\u001B[49m\u001B[43m(\u001B[49m\u001B[43m)\u001B[49m\u001B[38;5;241;43m.\u001B[39;49m\u001B[43mscatter\u001B[49m\u001B[43m(\u001B[49m\n\u001B[1;32m   3904\u001B[0m \u001B[43m        \u001B[49m\u001B[43mx\u001B[49m\u001B[43m,\u001B[49m\n\u001B[1;32m   3905\u001B[0m \u001B[43m        \u001B[49m\u001B[43my\u001B[49m\u001B[43m,\u001B[49m\n\u001B[1;32m   3906\u001B[0m \u001B[43m        \u001B[49m\u001B[43ms\u001B[49m\u001B[38;5;241;43m=\u001B[39;49m\u001B[43ms\u001B[49m\u001B[43m,\u001B[49m\n\u001B[1;32m   3907\u001B[0m \u001B[43m        \u001B[49m\u001B[43mc\u001B[49m\u001B[38;5;241;43m=\u001B[39;49m\u001B[43mc\u001B[49m\u001B[43m,\u001B[49m\n\u001B[1;32m   3908\u001B[0m \u001B[43m        \u001B[49m\u001B[43mmarker\u001B[49m\u001B[38;5;241;43m=\u001B[39;49m\u001B[43mmarker\u001B[49m\u001B[43m,\u001B[49m\n\u001B[1;32m   3909\u001B[0m \u001B[43m        \u001B[49m\u001B[43mcmap\u001B[49m\u001B[38;5;241;43m=\u001B[39;49m\u001B[43mcmap\u001B[49m\u001B[43m,\u001B[49m\n\u001B[1;32m   3910\u001B[0m \u001B[43m        \u001B[49m\u001B[43mnorm\u001B[49m\u001B[38;5;241;43m=\u001B[39;49m\u001B[43mnorm\u001B[49m\u001B[43m,\u001B[49m\n\u001B[1;32m   3911\u001B[0m \u001B[43m        \u001B[49m\u001B[43mvmin\u001B[49m\u001B[38;5;241;43m=\u001B[39;49m\u001B[43mvmin\u001B[49m\u001B[43m,\u001B[49m\n\u001B[1;32m   3912\u001B[0m \u001B[43m        \u001B[49m\u001B[43mvmax\u001B[49m\u001B[38;5;241;43m=\u001B[39;49m\u001B[43mvmax\u001B[49m\u001B[43m,\u001B[49m\n\u001B[1;32m   3913\u001B[0m \u001B[43m        \u001B[49m\u001B[43malpha\u001B[49m\u001B[38;5;241;43m=\u001B[39;49m\u001B[43malpha\u001B[49m\u001B[43m,\u001B[49m\n\u001B[1;32m   3914\u001B[0m \u001B[43m        \u001B[49m\u001B[43mlinewidths\u001B[49m\u001B[38;5;241;43m=\u001B[39;49m\u001B[43mlinewidths\u001B[49m\u001B[43m,\u001B[49m\n\u001B[1;32m   3915\u001B[0m \u001B[43m        \u001B[49m\u001B[43medgecolors\u001B[49m\u001B[38;5;241;43m=\u001B[39;49m\u001B[43medgecolors\u001B[49m\u001B[43m,\u001B[49m\n\u001B[1;32m   3916\u001B[0m \u001B[43m        \u001B[49m\u001B[43mplotnonfinite\u001B[49m\u001B[38;5;241;43m=\u001B[39;49m\u001B[43mplotnonfinite\u001B[49m\u001B[43m,\u001B[49m\n\u001B[1;32m   3917\u001B[0m \u001B[43m        \u001B[49m\u001B[38;5;241;43m*\u001B[39;49m\u001B[38;5;241;43m*\u001B[39;49m\u001B[43m(\u001B[49m\u001B[43m{\u001B[49m\u001B[38;5;124;43m\"\u001B[39;49m\u001B[38;5;124;43mdata\u001B[39;49m\u001B[38;5;124;43m\"\u001B[39;49m\u001B[43m:\u001B[49m\u001B[43m \u001B[49m\u001B[43mdata\u001B[49m\u001B[43m}\u001B[49m\u001B[43m \u001B[49m\u001B[38;5;28;43;01mif\u001B[39;49;00m\u001B[43m \u001B[49m\u001B[43mdata\u001B[49m\u001B[43m \u001B[49m\u001B[38;5;129;43;01mis\u001B[39;49;00m\u001B[43m \u001B[49m\u001B[38;5;129;43;01mnot\u001B[39;49;00m\u001B[43m \u001B[49m\u001B[38;5;28;43;01mNone\u001B[39;49;00m\u001B[43m \u001B[49m\u001B[38;5;28;43;01melse\u001B[39;49;00m\u001B[43m \u001B[49m\u001B[43m{\u001B[49m\u001B[43m}\u001B[49m\u001B[43m)\u001B[49m\u001B[43m,\u001B[49m\n\u001B[1;32m   3918\u001B[0m \u001B[43m        \u001B[49m\u001B[38;5;241;43m*\u001B[39;49m\u001B[38;5;241;43m*\u001B[39;49m\u001B[43mkwargs\u001B[49m\u001B[43m,\u001B[49m\n\u001B[1;32m   3919\u001B[0m \u001B[43m    \u001B[49m\u001B[43m)\u001B[49m\n\u001B[1;32m   3920\u001B[0m     sci(__ret)\n\u001B[1;32m   3921\u001B[0m     \u001B[38;5;28;01mreturn\u001B[39;00m __ret\n",
      "File \u001B[0;32m~/PycharmProjects/monteCarloEstimators/.venv/lib/python3.10/site-packages/matplotlib/__init__.py:1473\u001B[0m, in \u001B[0;36m_preprocess_data.<locals>.inner\u001B[0;34m(ax, data, *args, **kwargs)\u001B[0m\n\u001B[1;32m   1470\u001B[0m \u001B[38;5;129m@functools\u001B[39m\u001B[38;5;241m.\u001B[39mwraps(func)\n\u001B[1;32m   1471\u001B[0m \u001B[38;5;28;01mdef\u001B[39;00m \u001B[38;5;21minner\u001B[39m(ax, \u001B[38;5;241m*\u001B[39margs, data\u001B[38;5;241m=\u001B[39m\u001B[38;5;28;01mNone\u001B[39;00m, \u001B[38;5;241m*\u001B[39m\u001B[38;5;241m*\u001B[39mkwargs):\n\u001B[1;32m   1472\u001B[0m     \u001B[38;5;28;01mif\u001B[39;00m data \u001B[38;5;129;01mis\u001B[39;00m \u001B[38;5;28;01mNone\u001B[39;00m:\n\u001B[0;32m-> 1473\u001B[0m         \u001B[38;5;28;01mreturn\u001B[39;00m \u001B[43mfunc\u001B[49m\u001B[43m(\u001B[49m\n\u001B[1;32m   1474\u001B[0m \u001B[43m            \u001B[49m\u001B[43max\u001B[49m\u001B[43m,\u001B[49m\n\u001B[1;32m   1475\u001B[0m \u001B[43m            \u001B[49m\u001B[38;5;241;43m*\u001B[39;49m\u001B[38;5;28;43mmap\u001B[39;49m\u001B[43m(\u001B[49m\u001B[43msanitize_sequence\u001B[49m\u001B[43m,\u001B[49m\u001B[43m \u001B[49m\u001B[43margs\u001B[49m\u001B[43m)\u001B[49m\u001B[43m,\u001B[49m\n\u001B[1;32m   1476\u001B[0m \u001B[43m            \u001B[49m\u001B[38;5;241;43m*\u001B[39;49m\u001B[38;5;241;43m*\u001B[39;49m\u001B[43m{\u001B[49m\u001B[43mk\u001B[49m\u001B[43m:\u001B[49m\u001B[43m \u001B[49m\u001B[43msanitize_sequence\u001B[49m\u001B[43m(\u001B[49m\u001B[43mv\u001B[49m\u001B[43m)\u001B[49m\u001B[43m \u001B[49m\u001B[38;5;28;43;01mfor\u001B[39;49;00m\u001B[43m \u001B[49m\u001B[43mk\u001B[49m\u001B[43m,\u001B[49m\u001B[43m \u001B[49m\u001B[43mv\u001B[49m\u001B[43m \u001B[49m\u001B[38;5;129;43;01min\u001B[39;49;00m\u001B[43m \u001B[49m\u001B[43mkwargs\u001B[49m\u001B[38;5;241;43m.\u001B[39;49m\u001B[43mitems\u001B[49m\u001B[43m(\u001B[49m\u001B[43m)\u001B[49m\u001B[43m}\u001B[49m\u001B[43m)\u001B[49m\n\u001B[1;32m   1478\u001B[0m     bound \u001B[38;5;241m=\u001B[39m new_sig\u001B[38;5;241m.\u001B[39mbind(ax, \u001B[38;5;241m*\u001B[39margs, \u001B[38;5;241m*\u001B[39m\u001B[38;5;241m*\u001B[39mkwargs)\n\u001B[1;32m   1479\u001B[0m     auto_label \u001B[38;5;241m=\u001B[39m (bound\u001B[38;5;241m.\u001B[39marguments\u001B[38;5;241m.\u001B[39mget(label_namer)\n\u001B[1;32m   1480\u001B[0m                   \u001B[38;5;129;01mor\u001B[39;00m bound\u001B[38;5;241m.\u001B[39mkwargs\u001B[38;5;241m.\u001B[39mget(label_namer))\n",
      "File \u001B[0;32m~/PycharmProjects/monteCarloEstimators/.venv/lib/python3.10/site-packages/matplotlib/axes/_axes.py:4785\u001B[0m, in \u001B[0;36mAxes.scatter\u001B[0;34m(self, x, y, s, c, marker, cmap, norm, vmin, vmax, alpha, linewidths, edgecolors, plotnonfinite, **kwargs)\u001B[0m\n\u001B[1;32m   4782\u001B[0m \u001B[38;5;66;03m# np.ma.ravel yields an ndarray, not a masked array,\u001B[39;00m\n\u001B[1;32m   4783\u001B[0m \u001B[38;5;66;03m# unless its argument is a masked array.\u001B[39;00m\n\u001B[1;32m   4784\u001B[0m x \u001B[38;5;241m=\u001B[39m np\u001B[38;5;241m.\u001B[39mma\u001B[38;5;241m.\u001B[39mravel(x)\n\u001B[0;32m-> 4785\u001B[0m y \u001B[38;5;241m=\u001B[39m \u001B[43mnp\u001B[49m\u001B[38;5;241;43m.\u001B[39;49m\u001B[43mma\u001B[49m\u001B[38;5;241;43m.\u001B[39;49m\u001B[43mravel\u001B[49m\u001B[43m(\u001B[49m\u001B[43my\u001B[49m\u001B[43m)\u001B[49m\n\u001B[1;32m   4786\u001B[0m \u001B[38;5;28;01mif\u001B[39;00m x\u001B[38;5;241m.\u001B[39msize \u001B[38;5;241m!=\u001B[39m y\u001B[38;5;241m.\u001B[39msize:\n\u001B[1;32m   4787\u001B[0m     \u001B[38;5;28;01mraise\u001B[39;00m \u001B[38;5;167;01mValueError\u001B[39;00m(\u001B[38;5;124m\"\u001B[39m\u001B[38;5;124mx and y must be the same size\u001B[39m\u001B[38;5;124m\"\u001B[39m)\n",
      "File \u001B[0;32m~/PycharmProjects/monteCarloEstimators/.venv/lib/python3.10/site-packages/numpy/ma/core.py:6994\u001B[0m, in \u001B[0;36m_frommethod.__call__\u001B[0;34m(self, a, *args, **params)\u001B[0m\n\u001B[1;32m   6991\u001B[0m     args \u001B[38;5;241m=\u001B[39m \u001B[38;5;28mlist\u001B[39m(args)\n\u001B[1;32m   6992\u001B[0m     a, args[\u001B[38;5;241m0\u001B[39m] \u001B[38;5;241m=\u001B[39m args[\u001B[38;5;241m0\u001B[39m], a\n\u001B[0;32m-> 6994\u001B[0m marr \u001B[38;5;241m=\u001B[39m \u001B[43masanyarray\u001B[49m\u001B[43m(\u001B[49m\u001B[43ma\u001B[49m\u001B[43m)\u001B[49m\n\u001B[1;32m   6995\u001B[0m method_name \u001B[38;5;241m=\u001B[39m \u001B[38;5;28mself\u001B[39m\u001B[38;5;241m.\u001B[39m\u001B[38;5;18m__name__\u001B[39m\n\u001B[1;32m   6996\u001B[0m method \u001B[38;5;241m=\u001B[39m \u001B[38;5;28mgetattr\u001B[39m(\u001B[38;5;28mtype\u001B[39m(marr), method_name, \u001B[38;5;28;01mNone\u001B[39;00m)\n",
      "File \u001B[0;32m~/PycharmProjects/monteCarloEstimators/.venv/lib/python3.10/site-packages/numpy/ma/core.py:8437\u001B[0m, in \u001B[0;36masanyarray\u001B[0;34m(a, dtype)\u001B[0m\n\u001B[1;32m   8435\u001B[0m \u001B[38;5;28;01mif\u001B[39;00m \u001B[38;5;28misinstance\u001B[39m(a, MaskedArray) \u001B[38;5;129;01mand\u001B[39;00m (dtype \u001B[38;5;129;01mis\u001B[39;00m \u001B[38;5;28;01mNone\u001B[39;00m \u001B[38;5;129;01mor\u001B[39;00m dtype \u001B[38;5;241m==\u001B[39m a\u001B[38;5;241m.\u001B[39mdtype):\n\u001B[1;32m   8436\u001B[0m     \u001B[38;5;28;01mreturn\u001B[39;00m a\n\u001B[0;32m-> 8437\u001B[0m \u001B[38;5;28;01mreturn\u001B[39;00m \u001B[43mmasked_array\u001B[49m\u001B[43m(\u001B[49m\u001B[43ma\u001B[49m\u001B[43m,\u001B[49m\u001B[43m \u001B[49m\u001B[43mdtype\u001B[49m\u001B[38;5;241;43m=\u001B[39;49m\u001B[43mdtype\u001B[49m\u001B[43m,\u001B[49m\u001B[43m \u001B[49m\u001B[43mcopy\u001B[49m\u001B[38;5;241;43m=\u001B[39;49m\u001B[38;5;28;43;01mFalse\u001B[39;49;00m\u001B[43m,\u001B[49m\u001B[43m \u001B[49m\u001B[43mkeep_mask\u001B[49m\u001B[38;5;241;43m=\u001B[39;49m\u001B[38;5;28;43;01mTrue\u001B[39;49;00m\u001B[43m,\u001B[49m\u001B[43m \u001B[49m\u001B[43msubok\u001B[49m\u001B[38;5;241;43m=\u001B[39;49m\u001B[38;5;28;43;01mTrue\u001B[39;49;00m\u001B[43m)\u001B[49m\n",
      "File \u001B[0;32m~/PycharmProjects/monteCarloEstimators/.venv/lib/python3.10/site-packages/numpy/ma/core.py:2884\u001B[0m, in \u001B[0;36mMaskedArray.__new__\u001B[0;34m(cls, data, mask, dtype, copy, subok, ndmin, fill_value, keep_mask, hard_mask, shrink, order)\u001B[0m\n\u001B[1;32m   2880\u001B[0m \u001B[38;5;28;01melif\u001B[39;00m \u001B[38;5;28misinstance\u001B[39m(data, (\u001B[38;5;28mtuple\u001B[39m, \u001B[38;5;28mlist\u001B[39m)):\n\u001B[1;32m   2881\u001B[0m     \u001B[38;5;28;01mtry\u001B[39;00m:\n\u001B[1;32m   2882\u001B[0m         \u001B[38;5;66;03m# If data is a sequence of masked array\u001B[39;00m\n\u001B[1;32m   2883\u001B[0m         mask \u001B[38;5;241m=\u001B[39m np\u001B[38;5;241m.\u001B[39marray(\n\u001B[0;32m-> 2884\u001B[0m             [getmaskarray(np\u001B[38;5;241m.\u001B[39masanyarray(m, dtype\u001B[38;5;241m=\u001B[39m_data\u001B[38;5;241m.\u001B[39mdtype))\n\u001B[1;32m   2885\u001B[0m              \u001B[38;5;28;01mfor\u001B[39;00m m \u001B[38;5;129;01min\u001B[39;00m data], dtype\u001B[38;5;241m=\u001B[39mmdtype)\n\u001B[1;32m   2886\u001B[0m     \u001B[38;5;28;01mexcept\u001B[39;00m (\u001B[38;5;167;01mValueError\u001B[39;00m, \u001B[38;5;167;01mTypeError\u001B[39;00m):\n\u001B[1;32m   2887\u001B[0m         \u001B[38;5;66;03m# If data is nested\u001B[39;00m\n\u001B[1;32m   2888\u001B[0m         mask \u001B[38;5;241m=\u001B[39m nomask\n",
      "File \u001B[0;32m~/PycharmProjects/monteCarloEstimators/.venv/lib/python3.10/site-packages/numpy/ma/core.py:2884\u001B[0m, in \u001B[0;36m<listcomp>\u001B[0;34m(.0)\u001B[0m\n\u001B[1;32m   2880\u001B[0m \u001B[38;5;28;01melif\u001B[39;00m \u001B[38;5;28misinstance\u001B[39m(data, (\u001B[38;5;28mtuple\u001B[39m, \u001B[38;5;28mlist\u001B[39m)):\n\u001B[1;32m   2881\u001B[0m     \u001B[38;5;28;01mtry\u001B[39;00m:\n\u001B[1;32m   2882\u001B[0m         \u001B[38;5;66;03m# If data is a sequence of masked array\u001B[39;00m\n\u001B[1;32m   2883\u001B[0m         mask \u001B[38;5;241m=\u001B[39m np\u001B[38;5;241m.\u001B[39marray(\n\u001B[0;32m-> 2884\u001B[0m             [getmaskarray(np\u001B[38;5;241m.\u001B[39masanyarray(m, dtype\u001B[38;5;241m=\u001B[39m\u001B[43m_data\u001B[49m\u001B[38;5;241;43m.\u001B[39;49m\u001B[43mdtype\u001B[49m))\n\u001B[1;32m   2885\u001B[0m              \u001B[38;5;28;01mfor\u001B[39;00m m \u001B[38;5;129;01min\u001B[39;00m data], dtype\u001B[38;5;241m=\u001B[39mmdtype)\n\u001B[1;32m   2886\u001B[0m     \u001B[38;5;28;01mexcept\u001B[39;00m (\u001B[38;5;167;01mValueError\u001B[39;00m, \u001B[38;5;167;01mTypeError\u001B[39;00m):\n\u001B[1;32m   2887\u001B[0m         \u001B[38;5;66;03m# If data is nested\u001B[39;00m\n\u001B[1;32m   2888\u001B[0m         mask \u001B[38;5;241m=\u001B[39m nomask\n",
      "File \u001B[0;32m~/PycharmProjects/monteCarloEstimators/.venv/lib/python3.10/site-packages/numpy/ma/core.py:3443\u001B[0m, in \u001B[0;36mMaskedArray.dtype\u001B[0;34m(self)\u001B[0m\n\u001B[1;32m   3440\u001B[0m     \u001B[38;5;28;01mreturn\u001B[39;00m\n\u001B[1;32m   3442\u001B[0m \u001B[38;5;66;03m# Define so that we can overwrite the setter.\u001B[39;00m\n\u001B[0;32m-> 3443\u001B[0m \u001B[38;5;129m@property\u001B[39m\n\u001B[1;32m   3444\u001B[0m \u001B[38;5;28;01mdef\u001B[39;00m \u001B[38;5;21mdtype\u001B[39m(\u001B[38;5;28mself\u001B[39m):\n\u001B[1;32m   3445\u001B[0m     \u001B[38;5;28;01mreturn\u001B[39;00m \u001B[38;5;28msuper\u001B[39m()\u001B[38;5;241m.\u001B[39mdtype\n\u001B[1;32m   3447\u001B[0m \u001B[38;5;129m@dtype\u001B[39m\u001B[38;5;241m.\u001B[39msetter\n\u001B[1;32m   3448\u001B[0m \u001B[38;5;28;01mdef\u001B[39;00m \u001B[38;5;21mdtype\u001B[39m(\u001B[38;5;28mself\u001B[39m, dtype):\n",
      "\u001B[0;31mKeyboardInterrupt\u001B[0m: "
     ]
    },
    {
     "data": {
      "text/plain": [
       "<Figure size 640x480 with 1 Axes>"
      ],
      "image/png": "[encoded data removed]"
     },
     "metadata": {},
     "output_type": "display_data"
    }
   ],
   "execution_count": 23
  }
 ],
 "metadata": {
  "kernelspec": {
   "display_name": "Python 3",
   "language": "python",
   "name": "python3"
  },
  "language_info": {
   "codemirror_mode": {
    "name": "ipython",
    "version": 2
   },
   "file_extension": ".py",
   "mimetype": "text/x-python",
   "name": "python",
   "nbconvert_exporter": "python",
   "pygments_lexer": "ipython2",
   "version": "2.7.6"
  }
 },
 "nbformat": 4,
 "nbformat_minor": 5
}
